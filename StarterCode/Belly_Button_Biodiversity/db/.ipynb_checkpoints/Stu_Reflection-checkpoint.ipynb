{
 "cells": [
  {
   "cell_type": "code",
   "execution_count": 1,
   "metadata": {},
   "outputs": [],
   "source": [
    "# Python SQL toolkit and Object Relational Mapper\n",
    "import sqlalchemy\n",
    "from sqlalchemy.ext.automap import automap_base\n",
    "from sqlalchemy.orm import Session\n",
    "from sqlalchemy import create_engine"
   ]
  },
  {
   "cell_type": "code",
   "execution_count": 2,
   "metadata": {
    "nbgrader": {
     "grade": false,
     "grade_id": "cell-70673a582be08b2b",
     "locked": false,
     "schema_version": 1,
     "solution": true
    }
   },
   "outputs": [],
   "source": [
    "# Create engine using the `demographics.sqlite` database file\n",
    "engine = create_engine(\"sqlite:///../demographics.sqlite\")"
   ]
  },
  {
   "cell_type": "code",
   "execution_count": 3,
   "metadata": {
    "nbgrader": {
     "grade": false,
     "grade_id": "cell-41aa0b6e080b0fc3",
     "locked": false,
     "schema_version": 1,
     "solution": true
    }
   },
   "outputs": [],
   "source": [
    "# Declare a Base using `automap_base()`\n",
    "Base = automap_base()"
   ]
  },
  {
   "cell_type": "code",
   "execution_count": 4,
   "metadata": {
    "nbgrader": {
     "grade": false,
     "grade_id": "cell-6bfc53d06684937a",
     "locked": false,
     "schema_version": 1,
     "solution": true
    }
   },
   "outputs": [],
   "source": [
    "# Use the Base class to reflect the database tables\n",
    "Base.prepare(engine, reflect=True)"
   ]
  },
  {
   "cell_type": "code",
   "execution_count": 5,
   "metadata": {
    "nbgrader": {
     "grade": false,
     "grade_id": "cell-ed6e858f1d08dd99",
     "locked": false,
     "schema_version": 1,
     "solution": true
    }
   },
   "outputs": [
    {
     "data": {
      "text/plain": [
       "['demographics']"
      ]
     },
     "execution_count": 5,
     "metadata": {},
     "output_type": "execute_result"
    }
   ],
   "source": [
    "# Print all of the classes mapped to the Base\n",
    "Base.classes.keys()"
   ]
  },
  {
   "cell_type": "code",
   "execution_count": 6,
   "metadata": {
    "nbgrader": {
     "grade": false,
     "grade_id": "cell-8efa4b315fdfc079",
     "locked": false,
     "schema_version": 1,
     "solution": true
    }
   },
   "outputs": [],
   "source": [
    "# Assign the demographics class to a variable called `Demographics`\n",
    "Demographics = Base.classes.demographics\n"
   ]
  },
  {
   "cell_type": "code",
   "execution_count": 7,
   "metadata": {
    "nbgrader": {
     "grade": false,
     "grade_id": "cell-490b4263c4872970",
     "locked": false,
     "schema_version": 1,
     "solution": true
    }
   },
   "outputs": [],
   "source": [
    "# Create a session\n",
    "session = Session(engine)"
   ]
  },
  {
   "cell_type": "code",
   "execution_count": 20,
   "metadata": {},
   "outputs": [
    {
     "data": {
      "text/plain": [
       "South Dakota     214\n",
       "Louisiana        204\n",
       "West Virginia    203\n",
       "Alaska           191\n",
       "Delaware         188\n",
       "Name: location, dtype: int64"
      ]
     },
     "execution_count": 20,
     "metadata": {},
     "output_type": "execute_result"
    }
   ],
   "source": [
    "import pandas as pd\n",
    "conn=engine.connect()\n",
    "pd.read_sql('select location from demographics',conn)['location'].value_counts()"
   ]
  },
  {
   "cell_type": "code",
   "execution_count": 16,
   "metadata": {
    "nbgrader": {
     "grade": false,
     "grade_id": "cell-9ec67a4806a1b9d2",
     "locked": false,
     "schema_version": 1,
     "solution": true
    }
   },
   "outputs": [
    {
     "name": "stdout",
     "output_type": "stream",
     "text": [
      "{'_sa_instance_state': <sqlalchemy.orm.state.InstanceState object at 0x10c017898>, 'occupation': 'Choreographer', 'weight_kg': 53.0, 'age': 58, 'location': 'South Dakota', 'academic_degree': 'PhD', 'children': 1, 'height_meter': 1.87, 'id': 0, 'salary': 68}\n",
      "South Dakota\n",
      "68\n",
      "{'_sa_instance_state': <sqlalchemy.orm.state.InstanceState object at 0x10c0177b8>, 'occupation': 'Cellarman', 'weight_kg': 40.0, 'age': 65, 'location': 'Delaware', 'academic_degree': 'Bachelor', 'children': 0, 'height_meter': 1.8, 'id': 1, 'salary': 73}\n",
      "Delaware\n",
      "73\n",
      "{'_sa_instance_state': <sqlalchemy.orm.state.InstanceState object at 0x10c029a20>, 'occupation': 'Veterinary Surgeon', 'weight_kg': 73.0, 'age': 32, 'location': 'South Dakota', 'academic_degree': 'Master', 'children': 1, 'height_meter': 1.8, 'id': 2, 'salary': 69}\n",
      "South Dakota\n",
      "69\n",
      "{'_sa_instance_state': <sqlalchemy.orm.state.InstanceState object at 0x10c017828>, 'occupation': 'Hawker', 'weight_kg': 89.0, 'age': 61, 'location': 'Louisiana', 'academic_degree': 'PhD', 'children': 0, 'height_meter': 1.79, 'id': 3, 'salary': 88}\n",
      "Louisiana\n",
      "88\n",
      "{'_sa_instance_state': <sqlalchemy.orm.state.InstanceState object at 0x10c017588>, 'occupation': 'Choreographer', 'weight_kg': 51.0, 'age': 23, 'location': 'West Virginia', 'academic_degree': 'Bachelor', 'children': 2, 'height_meter': 1.64, 'id': 4, 'salary': 83}\n",
      "West Virginia\n",
      "83\n"
     ]
    }
   ],
   "source": [
    "# Use the session to query Demographics table and display the first 5 locations\n",
    "for row in session.query(Demographics).limit(5).all():\n",
    "    print(row.__dict__)\n",
    "    print(row.location)\n",
    "    print(row.salary)\n",
    "    "
   ]
  },
  {
   "cell_type": "code",
   "execution_count": 9,
   "metadata": {
    "nbgrader": {
     "grade": false,
     "grade_id": "cell-48bb7af3e19c67ac",
     "locked": false,
     "schema_version": 1,
     "solution": true
    }
   },
   "outputs": [
    {
     "name": "stdout",
     "output_type": "stream",
     "text": [
      "[<sqlalchemy.ext.automap.demographics object at 0x10c017710>, <sqlalchemy.ext.automap.demographics object at 0x10c017780>, <sqlalchemy.ext.automap.demographics object at 0x10c0177f0>, <sqlalchemy.ext.automap.demographics object at 0x10c017860>, <sqlalchemy.ext.automap.demographics object at 0x10c017550>]\n"
     ]
    }
   ],
   "source": [
    "# BONUS: Query and print the number of unique Locations\n",
    "# Hints: Look into counting and grouping operations in SQLAlchemy\n",
    "locations = session.query(Demographics).group_by(Demographics.location).all()\n",
    "print(locations)\n"
   ]
  },
  {
   "cell_type": "code",
   "execution_count": null,
   "metadata": {},
   "outputs": [],
   "source": []
  }
 ],
 "metadata": {
  "celltoolbar": "Create Assignment",
  "kernelspec": {
   "display_name": "Python 3",
   "language": "python",
   "name": "python3"
  },
  "language_info": {
   "codemirror_mode": {
    "name": "ipython",
    "version": 3
   },
   "file_extension": ".py",
   "mimetype": "text/x-python",
   "name": "python",
   "nbconvert_exporter": "python",
   "pygments_lexer": "ipython3",
   "version": "3.7.1"
  },
  "varInspector": {
   "cols": {
    "lenName": 16,
    "lenType": 16,
    "lenVar": 40
   },
   "kernels_config": {
    "python": {
     "delete_cmd_postfix": "",
     "delete_cmd_prefix": "del ",
     "library": "var_list.py",
     "varRefreshCmd": "print(var_dic_list())"
    },
    "r": {
     "delete_cmd_postfix": ") ",
     "delete_cmd_prefix": "rm(",
     "library": "var_list.r",
     "varRefreshCmd": "cat(var_dic_list()) "
    }
   },
   "types_to_exclude": [
    "module",
    "function",
    "builtin_function_or_method",
    "instance",
    "_Feature"
   ],
   "window_display": false
  }
 },
 "nbformat": 4,
 "nbformat_minor": 2
}
